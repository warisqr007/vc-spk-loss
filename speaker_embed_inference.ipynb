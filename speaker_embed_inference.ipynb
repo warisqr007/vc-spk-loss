{
 "cells": [
  {
   "cell_type": "code",
   "execution_count": null,
   "metadata": {},
   "outputs": [],
   "source": [
    "from pathlib import Path\n",
    "from speaker_encoder.voice_encoder import SpeakerEncoder\n",
    "from speaker_encoder.audio import preprocess_wav"
   ]
  },
  {
   "cell_type": "code",
   "execution_count": null,
   "metadata": {},
   "outputs": [],
   "source": [
    "def compute_spk_dvec(\n",
    "    wav_path, weights_fpath=\"speaker_encoder/ckpt/pretrained_bak_5805000.pt\",\n",
    "):\n",
    "    fpath = Path(wav_path)\n",
    "    wav = preprocess_wav(fpath)\n",
    "    # print('wac-shape',wav.shape)\n",
    "    encoder = SpeakerEncoder(weights_fpath)\n",
    "    spk_dvec = encoder.embed_utterance(wav)\n",
    "    #print(spk_dvec)\n",
    "    return spk_dvec"
   ]
  },
  {
   "cell_type": "code",
   "execution_count": null,
   "metadata": {},
   "outputs": [],
   "source": [
    "tgt_wav_path = \"path/to/target/speaker\"\n",
    "tgt_spk_dvec = compute_spk_dvec(tgt_wav_path)"
   ]
  },
  {
   "cell_type": "code",
   "execution_count": null,
   "metadata": {},
   "outputs": [],
   "source": [
    "print(tgt_spk_dvec.shape)"
   ]
  }
 ],
 "metadata": {
  "kernelspec": {
   "display_name": "Python 3.6.9 64-bit",
   "language": "python",
   "name": "python3"
  },
  "language_info": {
   "name": "python",
   "version": "3.6.9"
  },
  "orig_nbformat": 4,
  "vscode": {
   "interpreter": {
    "hash": "31f2aee4e71d21fbe5cf8b01ff0e069b9275f58929596ceb00d14d90e3e16cd6"
   }
  }
 },
 "nbformat": 4,
 "nbformat_minor": 2
}
