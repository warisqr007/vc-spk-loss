{
 "cells": [
  {
   "cell_type": "code",
   "execution_count": null,
   "metadata": {},
   "outputs": [],
   "source": [
    "from pathlib import Path\n",
    "from speaker_encoder.voice_encoder import SpeakerEncoder\n",
    "from speaker_encoder.audio import preprocess_wav"
   ]
  },
  {
   "cell_type": "code",
   "execution_count": null,
   "metadata": {},
   "outputs": [],
   "source": [
    "def compute_spk_dvec(\n",
    "    wav_path, weights_fpath=\"speaker_encoder/ckpt/pretrained_bak_5805000.pt\",\n",
    "):\n",
    "    fpath = Path(wav_path)\n",
    "    wav = preprocess_wav(fpath)\n",
    "    # print('wac-shape',wav.shape)\n",
    "    encoder = SpeakerEncoder(weights_fpath)\n",
    "    spk_dvec = encoder.embed_utterance(wav)\n",
    "    #print(spk_dvec)\n",
    "    return spk_dvec"
   ]
  },
  {
   "cell_type": "code",
   "execution_count": null,
   "metadata": {},
   "outputs": [],
   "source": [
    "tgt_wav_path = \"path/to/target/speaker\"\n",
    "tgt_spk_dvec = compute_spk_dvec(tgt_wav_path)"
   ]
  },
  {
   "cell_type": "code",
   "execution_count": null,
   "metadata": {},
   "outputs": [],
   "source": [
    "print(tgt_spk_dvec.shape)"
   ]
  }
 ],
 "metadata": {
  "kernelspec": {
   "display_name": "Python 3.8.12 ('prosody')",
   "language": "python",
   "name": "python3"
  },
  "language_info": {
   "name": "python",
   "version": "3.8.12"
  },
  "orig_nbformat": 4,
  "vscode": {
   "interpreter": {
    "hash": "ccc06f57b992a48a92dc79853a7c64be2eaef91c5fb66f21fa406ffbcfa5e842"
   }
  }
 },
 "nbformat": 4,
 "nbformat_minor": 2
}
