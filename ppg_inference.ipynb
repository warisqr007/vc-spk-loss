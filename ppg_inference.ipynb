{
 "cells": [
  {
   "cell_type": "code",
   "execution_count": null,
   "metadata": {},
   "outputs": [],
   "source": [
    "import librosa\n",
    "import torch\n",
    "from conformer_ppg_model.build_ppg_model import load_ppg_model"
   ]
  },
  {
   "cell_type": "code",
   "execution_count": null,
   "metadata": {},
   "outputs": [],
   "source": [
    "device = 'cuda'\n",
    "\n",
    "ppg_model = load_ppg_model(\n",
    "    './conformer_ppg_model/en_conformer_ctc_att/config.yaml', \n",
    "    './conformer_ppg_model/en_conformer_ctc_att/24epoch.pth',\n",
    "    device,\n",
    ")"
   ]
  },
  {
   "cell_type": "code",
   "execution_count": null,
   "metadata": {},
   "outputs": [],
   "source": [
    "src_wav_path = \"path/to/wav/file\"\n",
    "src_wav, _ = librosa.load(src_wav_path, sr=16000)\n",
    "src_wav_tensor = torch.from_numpy(src_wav).unsqueeze(0).float().to(device)\n",
    "src_wav_lengths = torch.LongTensor([len(src_wav)]).to(device)\n",
    "ppg = ppg_model(src_wav_tensor, src_wav_lengths)"
   ]
  },
  {
   "cell_type": "code",
   "execution_count": null,
   "metadata": {},
   "outputs": [],
   "source": [
    "print(ppg.shape)"
   ]
  }
 ],
 "metadata": {
  "kernelspec": {
   "display_name": "Python 3.8.12 ('prosody')",
   "language": "python",
   "name": "python3"
  },
  "language_info": {
   "name": "python",
   "version": "3.8.12"
  },
  "orig_nbformat": 4,
  "vscode": {
   "interpreter": {
    "hash": "ccc06f57b992a48a92dc79853a7c64be2eaef91c5fb66f21fa406ffbcfa5e842"
   }
  }
 },
 "nbformat": 4,
 "nbformat_minor": 2
}
